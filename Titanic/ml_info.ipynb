{
 "cells": [
  {
   "cell_type": "markdown",
   "id": "926355e8",
   "metadata": {},
   "source": [
    "## 패키지"
   ]
  },
  {
   "cell_type": "code",
   "execution_count": 1,
   "id": "0c1ad11d",
   "metadata": {},
   "outputs": [],
   "source": [
    "import pandas as pd\n",
    "import numpy as np\n",
    "%matplotlib inline\n",
    "import seaborn as sns\n",
    "import matplotlib.pyplot as plt\n",
    "from scipy.stats import norm"
   ]
  },
  {
   "cell_type": "markdown",
   "id": "3ac80ee0",
   "metadata": {},
   "source": [
    "#### pandas\n",
    "데이터(주로 행렬 데이터)를 분석하는데 쓰이는 파이썬 패키지. 특히 표 데이터를 다룰 때 거의 무조건 사용.\n",
    "#### numpy\n",
    "선형대수 연산 파이썬 패키지. 그냥 수학 계산을 편하고 빠르게 할 수 있는 패키지.\n",
    "#### %matplotlib.inline\n",
    "그래프를 주피터 노트북 화면상에 바로 띄울 수 있게 하는 코드.\n",
    "#### seaborn\n",
    "쉽고 직관적인 방법으로 그래프를 띄울 수 있는 패키지.\n",
    "#### matplotlib.pyplot\n",
    "matplotlib 라는 그래프 띄우는 패키지 중 일부. 주로 여러개의 그래프를 한 결과로 띄우고 싶을 때 사용\n",
    "#### scipy\n",
    "SciPy는 과학, 수학, 엔지니어링 등에 사용되는 고급 계산 기능을 제공하는 Python 라이브러리.  \n",
    "선형 대수, 통계, 신호 처리, 최적화 등 다양한 분야의 기능을 제공.\n",
    "#### norm\n",
    "정규분포를 의미. 데이터의 분포 그래프를 띄울 때, 이 norm을 불러오면 정규분포와 쉽게 비교할 수 있다."
   ]
  },
  {
   "cell_type": "code",
   "execution_count": null,
   "id": "e2d8854e",
   "metadata": {},
   "outputs": [],
   "source": []
  }
 ],
 "metadata": {
  "kernelspec": {
   "display_name": "Python 3 (ipykernel)",
   "language": "python",
   "name": "python3"
  },
  "language_info": {
   "codemirror_mode": {
    "name": "ipython",
    "version": 3
   },
   "file_extension": ".py",
   "mimetype": "text/x-python",
   "name": "python",
   "nbconvert_exporter": "python",
   "pygments_lexer": "ipython3",
   "version": "3.11.5"
  }
 },
 "nbformat": 4,
 "nbformat_minor": 5
}
