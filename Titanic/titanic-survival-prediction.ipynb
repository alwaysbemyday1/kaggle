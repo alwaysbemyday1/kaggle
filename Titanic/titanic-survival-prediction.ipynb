{
 "cells": [
  {
   "cell_type": "code",
   "execution_count": 13,
   "metadata": {
    "_cell_guid": "b1076dfc-b9ad-4769-8c92-a6c4dae69d19",
    "_uuid": "8f2839f25d086af736a60e9eeb907d3b93b6e0e5",
    "execution": {
     "iopub.execute_input": "2024-01-04T12:23:39.838557Z",
     "iopub.status.busy": "2024-01-04T12:23:39.838133Z",
     "iopub.status.idle": "2024-01-04T12:23:39.848342Z",
     "shell.execute_reply": "2024-01-04T12:23:39.847386Z",
     "shell.execute_reply.started": "2024-01-04T12:23:39.838528Z"
    }
   },
   "outputs": [
    {
     "name": "stdout",
     "output_type": "stream",
     "text": [
      "data\\gender_submission.csv\n",
      "data\\test.csv\n",
      "data\\train.csv\n"
     ]
    }
   ],
   "source": [
    "import numpy as np # linear algebra\n",
    "import pandas as pd # data processing, CSV file I/O (e.g. pd.read_csv)\n",
    "\n",
    "import os\n",
    "for dirname, _, filenames in os.walk('data'):\n",
    "    for filename in filenames:\n",
    "        print(os.path.join(dirname, filename))"
   ]
  },
  {
   "cell_type": "code",
   "execution_count": 42,
   "metadata": {
    "execution": {
     "iopub.execute_input": "2024-01-04T12:21:45.138094Z",
     "iopub.status.busy": "2024-01-04T12:21:45.137662Z",
     "iopub.status.idle": "2024-01-04T12:21:45.171533Z",
     "shell.execute_reply": "2024-01-04T12:21:45.170262Z",
     "shell.execute_reply.started": "2024-01-04T12:21:45.138063Z"
    }
   },
   "outputs": [
    {
     "data": {
      "text/plain": [
       "891"
      ]
     },
     "execution_count": 42,
     "metadata": {},
     "output_type": "execute_result"
    }
   ],
   "source": [
    "train_titanic = pd.read_csv('data/train.csv')\n",
    "len(train_titanic)"
   ]
  },
  {
   "cell_type": "markdown",
   "metadata": {},
   "source": [
    "- 종속변수 Y = Survived\n",
    "- 종속변수 Y는 명목형(Nominal) 데이터"
   ]
  },
  {
   "cell_type": "code",
   "execution_count": 43,
   "metadata": {
    "execution": {
     "iopub.execute_input": "2024-01-04T12:21:55.577087Z",
     "iopub.status.busy": "2024-01-04T12:21:55.576631Z",
     "iopub.status.idle": "2024-01-04T12:21:55.604118Z",
     "shell.execute_reply": "2024-01-04T12:21:55.602997Z",
     "shell.execute_reply.started": "2024-01-04T12:21:55.577053Z"
    }
   },
   "outputs": [
    {
     "data": {
      "text/plain": [
       "418"
      ]
     },
     "execution_count": 43,
     "metadata": {},
     "output_type": "execute_result"
    }
   ],
   "source": [
    "test_titanic = pd.read_csv('data/test.csv')\n",
    "len(test_titanic)"
   ]
  },
  {
   "cell_type": "markdown",
   "metadata": {},
   "source": [
    "### 생존여부 영향인자(독립변수) 예상 순위\n",
    "1. Sex / Nominal(명목형)\n",
    "2. Age / Discrete(이산형)\n",
    "3. Pclass / Ordinal(순서형)\n",
    "4. Fare / Discrete(이산형)\n",
    "5. Parch / Discrete(이산형)\n",
    "6. SibSp / Discrete(이산형)\n",
    "7. Embarked / Nominal(명목형)\n",
    "8. Cabin / Discrete(이산형)\n",
    "9. Name(Nominal) / Ticket(Nominal) / PassengerId(Nominal)"
   ]
  },
  {
   "cell_type": "markdown",
   "metadata": {},
   "source": [
    "### 대립 가설 수립 (차이)\n",
    "1. 여성이 남성보다 생존확률이 높다.\n",
    "2. 나이가 어릴수록 생존확률이 높다.\n",
    "3. 승선 등급 및 티켓 가격이 높을수록 생존확률이 높다.\n",
    "4. 부모자식이 많을수록 생존확률이 높다.\n",
    "5. 형제자매가 많을수록 생존확률이 높다.\n",
    "6. 승선항이 침몰 지역과 가까울수록 생존확률이 낮다."
   ]
  },
  {
   "cell_type": "code",
   "execution_count": 15,
   "metadata": {},
   "outputs": [],
   "source": [
    "# 대립가설 1 검정\n",
    "# 종속변수 Survived (명목형), 독립변수 Sex(명목형), 차이 검정 => 로지스틱 회귀분석\n",
    "from sklearn.linear_model import LogisticRegression\n",
    "\n",
    "train_titanic['Sex'] = (train_titanic['Sex']=='male') * 1\n",
    "test_titanic['Sex'] = (test_titanic['Sex']=='male') * 1\n",
    "train_titanic.head()\n",
    "\n",
    "model = LogisticRegression()\n",
    "model.fit(X = train_titanic[['Sex']], y = train_titanic['Survived'])\n",
    "\n",
    "pred = model.predict(test_titanic[['Sex']])\n",
    "\n",
    "test_titanic['Survived'] = pred\n",
    "\n",
    "test_titanic.head()\n",
    "\n",
    "submission = test_titanic[['PassengerId', 'Survived']]\n",
    "submission.head(2)\n",
    "\n",
    "submission.to_csv('submission.csv', index=False)"
   ]
  },
  {
   "cell_type": "code",
   "execution_count": null,
   "metadata": {},
   "outputs": [],
   "source": [
    "# 대립가설 1,2,3 검정\n",
    "from sklearn.linear_model import LogisticRegression\n",
    "\n",
    "train_titanic['Sex'] = (train_titanic['Sex']=='male') * 1\n",
    "test_titanic['Sex'] = (test_titanic['Sex']=='male') * 1\n",
    "train_titanic.head()\n",
    "\n",
    "test_titanic = test_titanic.dropna(subset=['Age'], how='any')\n",
    "len(test_titanic)\n",
    "\n",
    "train_titanic = train_titanic.dropna(subset=['Age'], how='any')\n",
    "len(train_titanic)\n",
    "\n",
    "model = LogisticRegression()\n",
    "model.fit(X = train_titanic[['Sex', 'Pclass', 'Age']], y = train_titanic['Survived'])\n",
    "\n",
    "pred = model.predict(test_titanic[['Sex', 'Pclass', 'Age']])\n",
    "\n",
    "test_titanic['Survived'] = pred\n",
    "\n",
    "test_titanic.head()\n",
    "\n",
    "submission = test_titanic[['PassengerId', 'Survived']]\n",
    "submission.head(2)\n",
    "\n",
    "submission.to_csv('submission.csv', index=False)"
   ]
  }
 ],
 "metadata": {
  "kaggle": {
   "accelerator": "none",
   "dataSources": [
    {
     "databundleVersionId": 26502,
     "sourceId": 3136,
     "sourceType": "competition"
    }
   ],
   "dockerImageVersionId": 30626,
   "isGpuEnabled": false,
   "isInternetEnabled": false,
   "language": "python",
   "sourceType": "notebook"
  },
  "kernelspec": {
   "display_name": "Python 3 (ipykernel)",
   "language": "python",
   "name": "python3"
  },
  "language_info": {
   "codemirror_mode": {
    "name": "ipython",
    "version": 3
   },
   "file_extension": ".py",
   "mimetype": "text/x-python",
   "name": "python",
   "nbconvert_exporter": "python",
   "pygments_lexer": "ipython3",
   "version": "3.11.5"
  }
 },
 "nbformat": 4,
 "nbformat_minor": 4
}
