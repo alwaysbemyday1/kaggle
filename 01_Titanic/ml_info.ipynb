{
 "cells": [
  {
   "cell_type": "markdown",
   "id": "ad8b55b1",
   "metadata": {},
   "source": [
    "## 패키지"
   ]
  },
  {
   "cell_type": "code",
   "execution_count": 1,
   "id": "7bf941f9",
   "metadata": {},
   "outputs": [],
   "source": [
    "import pandas as pd\n",
    "import numpy as np\n",
    "%matplotlib inline\n",
    "import seaborn as sns\n",
    "import matplotlib.pyplot as plt\n",
    "from scipy.stats import norm"
   ]
  },
  {
   "cell_type": "markdown",
   "id": "807088bc",
   "metadata": {},
   "source": [
    "#### pandas\n",
    "데이터(주로 행렬 데이터)를 분석하는데 쓰이는 파이썬 패키지. 특히 표 데이터를 다룰 때 거의 무조건 사용.\n",
    "#### numpy\n",
    "선형대수 연산 파이썬 패키지. 그냥 수학 계산을 편하고 빠르게 할 수 있는 패키지.\n",
    "#### %matplotlib.inline\n",
    "그래프를 주피터 노트북 화면상에 바로 띄울 수 있게 하는 코드.\n",
    "#### seaborn\n",
    "쉽고 직관적인 방법으로 그래프를 띄울 수 있는 패키지.  \n",
    "(참조) https://hwi-doc.tistory.com/entry/seaborn-%EC%99%84%EB%B2%BD-%EC%A0%95%EB%A6%AC\n",
    "#### matplotlib.pyplot\n",
    "matplotlib 라는 그래프 띄우는 패키지 중 일부. 주로 여러개의 그래프를 한 결과로 띄우고 싶을 때 사용\n",
    "#### scipy\n",
    "SciPy는 과학, 수학, 엔지니어링 등에 사용되는 고급 계산 기능을 제공하는 Python 라이브러리.  \n",
    "선형 대수, 통계, 신호 처리, 최적화 등 다양한 분야의 기능을 제공.  \n",
    "(참조) https://noanomal.tistory.com/entry/Scipy-%EA%B8%B0%EC%B4%88%EC%82%AC%EC%9A%A9%EB%B2%95-%EC%B5%9C%EC%A0%81%ED%99%94-%ED%86%B5%EA%B3%84-%EC%8B%A0%ED%98%B8%EC%B2%98%EB%A6%AC%EC%84%A0%ED%98%95%EB%8C%80%EC%88%98\n",
    "#### norm\n",
    "정규분포를 의미. 데이터의 분포 그래프를 띄울 때, 이 norm을 불러오면 정규분포와 쉽게 비교할 수 있다."
   ]
  },
  {
   "cell_type": "code",
   "execution_count": null,
   "id": "aec93be2",
   "metadata": {},
   "outputs": [],
   "source": []
  }
 ],
 "metadata": {
  "kernelspec": {
   "display_name": "Python 3 (ipykernel)",
   "language": "python",
   "name": "python3"
  },
  "language_info": {
   "codemirror_mode": {
    "name": "ipython",
    "version": 3
   },
   "file_extension": ".py",
   "mimetype": "text/x-python",
   "name": "python",
   "nbconvert_exporter": "python",
   "pygments_lexer": "ipython3",
   "version": "3.11.5"
  }
 },
 "nbformat": 4,
 "nbformat_minor": 5
}
